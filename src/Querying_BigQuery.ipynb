{
 "cells": [
  {
   "cell_type": "code",
   "execution_count": 1,
   "id": "daa758ba-2181-4040-89a6-fc1068894513",
   "metadata": {},
   "outputs": [
    {
     "name": "stdout",
     "output_type": "stream",
     "text": [
      "# conda environments:\n",
      "#\n",
      "base                     /home/ion/miniconda3\n",
      "StableDif                /home/ion/miniconda3/envs/StableDif\n",
      "bigquery              *  /home/ion/miniconda3/envs/bigquery\n",
      "blablacar                /home/ion/miniconda3/envs/blablacar\n",
      "crewai                   /home/ion/miniconda3/envs/crewai\n",
      "django                   /home/ion/miniconda3/envs/django\n",
      "docker_jupyterlab        /home/ion/miniconda3/envs/docker_jupyterlab\n",
      "eda                      /home/ion/miniconda3/envs/eda\n",
      "eda_dataprep             /home/ion/miniconda3/envs/eda_dataprep\n",
      "hispasonic               /home/ion/miniconda3/envs/hispasonic\n",
      "jupyterbook              /home/ion/miniconda3/envs/jupyterbook\n",
      "jupyterlab               /home/ion/miniconda3/envs/jupyterlab\n",
      "kaggle                   /home/ion/miniconda3/envs/kaggle\n",
      "praisonai                /home/ion/miniconda3/envs/praisonai\n",
      "rstudio                  /home/ion/miniconda3/envs/rstudio\n",
      "sonus                    /home/ion/miniconda3/envs/sonus\n",
      "sqlite                   /home/ion/miniconda3/envs/sqlite\n",
      "synth_data               /home/ion/miniconda3/envs/synth_data\n",
      "time_series              /home/ion/miniconda3/envs/time_series\n",
      "\n"
     ]
    }
   ],
   "source": [
    "! conda env list"
   ]
  },
  {
   "cell_type": "code",
   "execution_count": 2,
   "id": "640900f2-5b6e-41b9-b347-e285068020ba",
   "metadata": {},
   "outputs": [],
   "source": [
    "# gcloud init. Es necesario para elegir el projecto en el que estoy trabajando"
   ]
  },
  {
   "cell_type": "code",
   "execution_count": 3,
   "id": "308669a7-9369-439a-8594-714c7f1f597b",
   "metadata": {},
   "outputs": [],
   "source": [
    "#!gcloud auth application-default login # Una vez elegido el projecto debo vincular jupyter con mi cuenta"
   ]
  },
  {
   "cell_type": "code",
   "execution_count": 4,
   "id": "9d5addde-5bd1-4f35-9b9e-3ef9e075e95f",
   "metadata": {},
   "outputs": [],
   "source": [
    "from google.cloud import bigquery"
   ]
  },
  {
   "cell_type": "code",
   "execution_count": 10,
   "id": "8e419465-171e-44c9-9699-08278d916ee8",
   "metadata": {},
   "outputs": [
    {
     "name": "stdout",
     "output_type": "stream",
     "text": [
      "adjacent_counties\n",
      "adjacent_states\n",
      "cbsa\n",
      "citibike_stations\n",
      "citibike_trips\n",
      "cnecta\n",
      "coastline\n",
      "congress_district_115\n",
      "congress_district_116\n",
      "counties\n",
      "csa\n",
      "gsod2015\n",
      "metropolitan_divisions\n",
      "national_outline\n",
      "nws_forecast_regions\n",
      "railways\n",
      "states\n",
      "urban_areas\n",
      "zip_codes\n"
     ]
    }
   ],
   "source": [
    "# Create a \"Client\" object\n",
    "client = bigquery.Client()\n",
    "\n",
    "# Construct a reference to the \"openaq\" dataset\n",
    "dataset_ref = client.dataset(\"cyclistic\", project=\"datamodels-and-pipelines\")\n",
    "\n",
    "# API request - fetch the dataset\n",
    "dataset = client.get_dataset(dataset_ref)\n",
    "\n",
    "# Listar las tablas\n",
    "\n",
    "table_list = []\n",
    "\n",
    "tables = list(client.list_tables(dataset))\n",
    "\n",
    "for table in tables:\n",
    "    table_list.append(table.table_id)\n",
    "    print(table.table_id)"
   ]
  },
  {
   "cell_type": "code",
   "execution_count": 11,
   "id": "c565509a-4ea6-417d-82ea-f8775a541bb3",
   "metadata": {},
   "outputs": [
    {
     "name": "stdout",
     "output_type": "stream",
     "text": [
      "datamodels-and-pipelines.cyclistic.adjacent_counties \n",
      " [SchemaField('county', 'STRING', 'NULLABLE', None, None, (), None), SchemaField('state', 'STRING', 'NULLABLE', None, None, (), None), SchemaField('county_fips_code', 'STRING', 'NULLABLE', None, None, (), None), SchemaField('neighbors', 'STRING', 'REPEATED', None, None, (), None), SchemaField('neighbors_state', 'STRING', 'REPEATED', None, None, (), None), SchemaField('neighbors_fips_code', 'STRING', 'REPEATED', None, None, (), None)] \n",
      " \n",
      "\n",
      "datamodels-and-pipelines.cyclistic.adjacent_states \n",
      " [SchemaField('state', 'STRING', 'NULLABLE', None, None, (), None), SchemaField('state_name', 'STRING', 'NULLABLE', None, None, (), None), SchemaField('state_fips_code', 'STRING', 'NULLABLE', None, None, (), None), SchemaField('neighbors_state', 'STRING', 'REPEATED', None, None, (), None), SchemaField('neighbors_fips_code', 'STRING', 'REPEATED', None, None, (), None)] \n",
      " \n",
      "\n",
      "datamodels-and-pipelines.cyclistic.cbsa \n",
      " [SchemaField('geo_id', 'STRING', 'NULLABLE', None, None, (), None), SchemaField('csa_geo_id', 'STRING', 'NULLABLE', None, None, (), None), SchemaField('cbsa_fips_code', 'STRING', 'NULLABLE', None, None, (), None), SchemaField('name', 'STRING', 'NULLABLE', None, None, (), None), SchemaField('lsad_name', 'STRING', 'NULLABLE', None, None, (), None), SchemaField('lsad_code', 'STRING', 'NULLABLE', None, None, (), None), SchemaField('msa_indicator', 'STRING', 'NULLABLE', None, None, (), None), SchemaField('mtfcc_feature_class_code', 'STRING', 'NULLABLE', None, None, (), None), SchemaField('area_land_meters', 'FLOAT', 'NULLABLE', None, None, (), None), SchemaField('area_water_meters', 'FLOAT', 'NULLABLE', None, None, (), None), SchemaField('internal_point_latitude', 'FLOAT', 'NULLABLE', None, None, (), None), SchemaField('internal_point_longitude', 'FLOAT', 'NULLABLE', None, None, (), None), SchemaField('internal_point_geom', 'GEOGRAPHY', 'NULLABLE', None, None, (), None), SchemaField('cbsa_geom', 'GEOGRAPHY', 'NULLABLE', None, None, (), None)] \n",
      " \n",
      "\n",
      "datamodels-and-pipelines.cyclistic.citibike_stations \n",
      " [SchemaField('station_id', 'STRING', 'NULLABLE', None, None, (), None), SchemaField('name', 'STRING', 'NULLABLE', None, None, (), None), SchemaField('short_name', 'STRING', 'NULLABLE', None, None, (), None), SchemaField('latitude', 'FLOAT', 'NULLABLE', None, None, (), None), SchemaField('longitude', 'FLOAT', 'NULLABLE', None, None, (), None), SchemaField('region_id', 'INTEGER', 'NULLABLE', None, None, (), None), SchemaField('rental_methods', 'STRING', 'NULLABLE', None, None, (), None), SchemaField('capacity', 'INTEGER', 'NULLABLE', None, None, (), None), SchemaField('eightd_has_key_dispenser', 'BOOLEAN', 'NULLABLE', None, None, (), None), SchemaField('num_bikes_available', 'INTEGER', 'NULLABLE', None, None, (), None), SchemaField('num_bikes_disabled', 'INTEGER', 'NULLABLE', None, None, (), None), SchemaField('num_docks_available', 'INTEGER', 'NULLABLE', None, None, (), None), SchemaField('num_docks_disabled', 'INTEGER', 'NULLABLE', None, None, (), None), SchemaField('is_installed', 'BOOLEAN', 'NULLABLE', None, None, (), None), SchemaField('is_renting', 'BOOLEAN', 'NULLABLE', None, None, (), None), SchemaField('is_returning', 'BOOLEAN', 'NULLABLE', None, None, (), None), SchemaField('eightd_has_available_keys', 'BOOLEAN', 'NULLABLE', None, None, (), None), SchemaField('last_reported', 'TIMESTAMP', 'NULLABLE', None, None, (), None)] \n",
      " \n",
      "\n",
      "datamodels-and-pipelines.cyclistic.citibike_trips \n",
      " [SchemaField('tripduration', 'INTEGER', 'NULLABLE', None, None, (), None), SchemaField('starttime', 'DATETIME', 'NULLABLE', None, None, (), None), SchemaField('stoptime', 'DATETIME', 'NULLABLE', None, None, (), None), SchemaField('start_station_id', 'INTEGER', 'NULLABLE', None, None, (), None), SchemaField('start_station_name', 'STRING', 'NULLABLE', None, None, (), None), SchemaField('start_station_latitude', 'FLOAT', 'NULLABLE', None, None, (), None), SchemaField('start_station_longitude', 'FLOAT', 'NULLABLE', None, None, (), None), SchemaField('end_station_id', 'INTEGER', 'NULLABLE', None, None, (), None), SchemaField('end_station_name', 'STRING', 'NULLABLE', None, None, (), None), SchemaField('end_station_latitude', 'FLOAT', 'NULLABLE', None, None, (), None), SchemaField('end_station_longitude', 'FLOAT', 'NULLABLE', None, None, (), None), SchemaField('bikeid', 'INTEGER', 'NULLABLE', None, None, (), None), SchemaField('usertype', 'STRING', 'NULLABLE', None, None, (), None), SchemaField('birth_year', 'INTEGER', 'NULLABLE', None, None, (), None), SchemaField('gender', 'STRING', 'NULLABLE', None, None, (), None), SchemaField('customer_plan', 'STRING', 'NULLABLE', None, None, (), None)] \n",
      " \n",
      "\n",
      "datamodels-and-pipelines.cyclistic.cnecta \n",
      " [SchemaField('geo_id', 'STRING', 'NULLABLE', None, None, (), None), SchemaField('cnecta_fips_code', 'STRING', 'NULLABLE', None, None, (), None), SchemaField('name', 'STRING', 'NULLABLE', None, None, (), None), SchemaField('name_lsad', 'STRING', 'NULLABLE', None, None, (), None), SchemaField('lsad', 'STRING', 'NULLABLE', None, None, (), None), SchemaField('mtfcc_feature_class_code', 'STRING', 'NULLABLE', None, None, (), None), SchemaField('area_land_meters', 'INTEGER', 'NULLABLE', None, None, (), None), SchemaField('area_water_meters', 'INTEGER', 'NULLABLE', None, None, (), None), SchemaField('int_point_lat', 'FLOAT', 'NULLABLE', None, None, (), None), SchemaField('int_point_lon', 'FLOAT', 'NULLABLE', None, None, (), None), SchemaField('cnecta_geom', 'GEOGRAPHY', 'NULLABLE', None, None, (), None)] \n",
      " \n",
      "\n",
      "datamodels-and-pipelines.cyclistic.coastline \n",
      " [SchemaField('name', 'STRING', 'NULLABLE', None, None, (), None), SchemaField('coastline_geom', 'GEOGRAPHY', 'NULLABLE', None, None, (), None)] \n",
      " \n",
      "\n",
      "datamodels-and-pipelines.cyclistic.congress_district_115 \n",
      " [SchemaField('geo_id', 'STRING', 'NULLABLE', None, None, (), None), SchemaField('state_fips_code', 'STRING', 'NULLABLE', None, None, (), None), SchemaField('district_fips_code', 'STRING', 'NULLABLE', None, None, (), None), SchemaField('lsad_name', 'STRING', 'NULLABLE', None, None, (), None), SchemaField('lsad_code', 'STRING', 'NULLABLE', None, None, (), None), SchemaField('congress_session', 'STRING', 'NULLABLE', None, None, (), None), SchemaField('mtfcc_feature_class_code', 'STRING', 'NULLABLE', None, None, (), None), SchemaField('functional_status', 'BOOLEAN', 'NULLABLE', None, None, (), None), SchemaField('area_land_meters', 'INTEGER', 'NULLABLE', None, None, (), None), SchemaField('area_water_meters', 'INTEGER', 'NULLABLE', None, None, (), None), SchemaField('int_point_lat', 'FLOAT', 'NULLABLE', None, None, (), None), SchemaField('int_point_lon', 'FLOAT', 'NULLABLE', None, None, (), None), SchemaField('int_point_geom', 'GEOGRAPHY', 'NULLABLE', None, None, (), None), SchemaField('district_geom', 'GEOGRAPHY', 'NULLABLE', None, None, (), None)] \n",
      " \n",
      "\n",
      "datamodels-and-pipelines.cyclistic.congress_district_116 \n",
      " [SchemaField('geo_id', 'STRING', 'NULLABLE', None, None, (), None), SchemaField('state_fips_code', 'STRING', 'NULLABLE', None, None, (), None), SchemaField('district_fips_code', 'STRING', 'NULLABLE', None, None, (), None), SchemaField('lsad_name', 'STRING', 'NULLABLE', None, None, (), None), SchemaField('lsad_code', 'STRING', 'NULLABLE', None, None, (), None), SchemaField('congress_session', 'STRING', 'NULLABLE', None, None, (), None), SchemaField('mtfcc_feature_class_code', 'STRING', 'NULLABLE', None, None, (), None), SchemaField('functional_status', 'BOOLEAN', 'NULLABLE', None, None, (), None), SchemaField('area_land_meters', 'INTEGER', 'NULLABLE', None, None, (), None), SchemaField('area_water_meters', 'INTEGER', 'NULLABLE', None, None, (), None), SchemaField('int_point_lat', 'FLOAT', 'NULLABLE', None, None, (), None), SchemaField('int_point_lon', 'FLOAT', 'NULLABLE', None, None, (), None), SchemaField('int_point_geom', 'GEOGRAPHY', 'NULLABLE', None, None, (), None), SchemaField('district_geom', 'GEOGRAPHY', 'NULLABLE', None, None, (), None)] \n",
      " \n",
      "\n",
      "datamodels-and-pipelines.cyclistic.counties \n",
      " [SchemaField('geo_id', 'STRING', 'NULLABLE', None, None, (), None), SchemaField('state_fips_code', 'STRING', 'NULLABLE', None, None, (), None), SchemaField('county_fips_code', 'STRING', 'NULLABLE', None, None, (), None), SchemaField('county_gnis_code', 'STRING', 'NULLABLE', None, None, (), None), SchemaField('county_name', 'STRING', 'NULLABLE', None, None, (), None), SchemaField('lsad_name', 'STRING', 'NULLABLE', None, None, (), None), SchemaField('lsad_code', 'STRING', 'NULLABLE', None, None, (), None), SchemaField('fips_class_code', 'STRING', 'NULLABLE', None, None, (), None), SchemaField('mtfcc_feature_class_code', 'STRING', 'NULLABLE', None, None, (), None), SchemaField('csa_fips_code', 'STRING', 'NULLABLE', None, None, (), None), SchemaField('cbsa_fips_code', 'STRING', 'NULLABLE', None, None, (), None), SchemaField('met_div_fips_code', 'STRING', 'NULLABLE', None, None, (), None), SchemaField('functional_status', 'STRING', 'NULLABLE', None, None, (), None), SchemaField('area_land_meters', 'INTEGER', 'NULLABLE', None, None, (), None), SchemaField('area_water_meters', 'INTEGER', 'NULLABLE', None, None, (), None), SchemaField('int_point_lat', 'FLOAT', 'NULLABLE', None, None, (), None), SchemaField('int_point_lon', 'FLOAT', 'NULLABLE', None, None, (), None), SchemaField('int_point_geom', 'GEOGRAPHY', 'NULLABLE', None, None, (), None), SchemaField('county_geom', 'GEOGRAPHY', 'NULLABLE', None, None, (), None)] \n",
      " \n",
      "\n",
      "datamodels-and-pipelines.cyclistic.csa \n",
      " [SchemaField('geo_id', 'STRING', 'NULLABLE', None, None, (), None), SchemaField('csa_code', 'STRING', 'NULLABLE', None, None, (), None), SchemaField('name', 'STRING', 'NULLABLE', None, None, (), None), SchemaField('lsad_name', 'STRING', 'NULLABLE', None, None, (), None), SchemaField('msa_lsad_code', 'STRING', 'NULLABLE', None, None, (), None), SchemaField('mtfcc_feature_class_code', 'STRING', 'NULLABLE', None, None, (), None), SchemaField('area_land_meters', 'FLOAT', 'NULLABLE', None, None, (), None), SchemaField('area_water_meters', 'FLOAT', 'NULLABLE', None, None, (), None), SchemaField('internal_point_lon', 'FLOAT', 'NULLABLE', None, None, (), None), SchemaField('internal_point_lat', 'FLOAT', 'NULLABLE', None, None, (), None), SchemaField('internal_point_geom', 'GEOGRAPHY', 'NULLABLE', None, None, (), None), SchemaField('csa_geom', 'GEOGRAPHY', 'NULLABLE', None, None, (), None)] \n",
      " \n",
      "\n",
      "datamodels-and-pipelines.cyclistic.gsod2015 \n",
      " [SchemaField('stn', 'STRING', 'NULLABLE', None, None, (), None), SchemaField('wban', 'STRING', 'NULLABLE', None, None, (), None), SchemaField('year', 'STRING', 'NULLABLE', None, None, (), None), SchemaField('mo', 'STRING', 'NULLABLE', None, None, (), None), SchemaField('da', 'STRING', 'NULLABLE', None, None, (), None), SchemaField('temp', 'FLOAT', 'NULLABLE', None, None, (), None), SchemaField('count_temp', 'INTEGER', 'NULLABLE', None, None, (), None), SchemaField('dewp', 'FLOAT', 'NULLABLE', None, None, (), None), SchemaField('count_dewp', 'INTEGER', 'NULLABLE', None, None, (), None), SchemaField('slp', 'FLOAT', 'NULLABLE', None, None, (), None), SchemaField('count_slp', 'INTEGER', 'NULLABLE', None, None, (), None), SchemaField('stp', 'FLOAT', 'NULLABLE', None, None, (), None), SchemaField('count_stp', 'INTEGER', 'NULLABLE', None, None, (), None), SchemaField('visib', 'FLOAT', 'NULLABLE', None, None, (), None), SchemaField('count_visib', 'INTEGER', 'NULLABLE', None, None, (), None), SchemaField('wdsp', 'STRING', 'NULLABLE', None, None, (), None), SchemaField('count_wdsp', 'STRING', 'NULLABLE', None, None, (), None), SchemaField('mxpsd', 'STRING', 'NULLABLE', None, None, (), None), SchemaField('gust', 'FLOAT', 'NULLABLE', None, None, (), None), SchemaField('max', 'FLOAT', 'NULLABLE', None, None, (), None), SchemaField('flag_max', 'STRING', 'NULLABLE', None, None, (), None), SchemaField('min', 'FLOAT', 'NULLABLE', None, None, (), None), SchemaField('flag_min', 'STRING', 'NULLABLE', None, None, (), None), SchemaField('prcp', 'FLOAT', 'NULLABLE', None, None, (), None), SchemaField('flag_prcp', 'STRING', 'NULLABLE', None, None, (), None), SchemaField('sndp', 'FLOAT', 'NULLABLE', None, None, (), None), SchemaField('fog', 'STRING', 'NULLABLE', None, None, (), None), SchemaField('rain_drizzle', 'STRING', 'NULLABLE', None, None, (), None), SchemaField('snow_ice_pellets', 'STRING', 'NULLABLE', None, None, (), None), SchemaField('hail', 'STRING', 'NULLABLE', None, None, (), None), SchemaField('thunder', 'STRING', 'NULLABLE', None, None, (), None), SchemaField('tornado_funnel_cloud', 'STRING', 'NULLABLE', None, None, (), None)] \n",
      " \n",
      "\n",
      "datamodels-and-pipelines.cyclistic.metropolitan_divisions \n",
      " [SchemaField('geo_id', 'STRING', 'NULLABLE', None, None, (), None), SchemaField('csa_code', 'STRING', 'NULLABLE', None, None, (), None), SchemaField('cbsa_code', 'STRING', 'NULLABLE', None, None, (), None), SchemaField('metdiv_code', 'STRING', 'NULLABLE', None, None, (), None), SchemaField('name', 'STRING', 'NULLABLE', None, None, (), None), SchemaField('lsad_name', 'STRING', 'NULLABLE', None, None, (), None), SchemaField('lsad_code', 'STRING', 'NULLABLE', None, None, (), None), SchemaField('mtfcc_feature_class_code', 'STRING', 'NULLABLE', None, None, (), None), SchemaField('area_land_meters', 'FLOAT', 'NULLABLE', None, None, (), None), SchemaField('area_water_meters', 'FLOAT', 'NULLABLE', None, None, (), None), SchemaField('internal_point_latitude', 'FLOAT', 'NULLABLE', None, None, (), None), SchemaField('internal_point_longitude', 'FLOAT', 'NULLABLE', None, None, (), None), SchemaField('internal_point_geom', 'GEOGRAPHY', 'NULLABLE', None, None, (), None), SchemaField('metdiv_geom', 'GEOGRAPHY', 'NULLABLE', None, None, (), None)] \n",
      " \n",
      "\n",
      "datamodels-and-pipelines.cyclistic.national_outline \n",
      " [SchemaField('us_outline_geom', 'GEOGRAPHY', 'NULLABLE', None, None, (), None), SchemaField('aff_geo_id', 'STRING', 'NULLABLE', None, None, (), None), SchemaField('geo_id', 'STRING', 'NULLABLE', None, None, (), None), SchemaField('name', 'STRING', 'NULLABLE', None, None, (), None)] \n",
      " \n",
      "\n",
      "datamodels-and-pipelines.cyclistic.nws_forecast_regions \n",
      " [SchemaField('state', 'STRING', 'NULLABLE', None, None, (), None), SchemaField('cwa', 'STRING', 'NULLABLE', None, None, (), None), SchemaField('time_zone', 'STRING', 'NULLABLE', None, None, (), None), SchemaField('fe_area', 'STRING', 'NULLABLE', None, None, (), None), SchemaField('zone', 'STRING', 'NULLABLE', None, None, (), None), SchemaField('name', 'STRING', 'NULLABLE', None, None, (), None), SchemaField('state_zone', 'STRING', 'NULLABLE', None, None, (), None), SchemaField('lon', 'FLOAT', 'NULLABLE', None, None, (), None), SchemaField('lat', 'FLOAT', 'NULLABLE', None, None, (), None), SchemaField('shortname', 'STRING', 'NULLABLE', None, None, (), None), SchemaField('shape_geometry', 'GEOGRAPHY', 'NULLABLE', None, None, (), None)] \n",
      " \n",
      "\n",
      "datamodels-and-pipelines.cyclistic.railways \n",
      " [SchemaField('geo_id', 'INTEGER', 'NULLABLE', None, None, (), None), SchemaField('full_name', 'STRING', 'NULLABLE', None, None, (), None), SchemaField('mtfcc_feature_class_code', 'STRING', 'NULLABLE', None, None, (), None), SchemaField('railway_geom', 'STRING', 'NULLABLE', None, None, (), None)] \n",
      " \n",
      "\n",
      "datamodels-and-pipelines.cyclistic.states \n",
      " [SchemaField('geo_id', 'STRING', 'NULLABLE', None, None, (), None), SchemaField('region_code', 'STRING', 'NULLABLE', None, None, (), None), SchemaField('division_code', 'STRING', 'NULLABLE', None, None, (), None), SchemaField('state_fips_code', 'STRING', 'NULLABLE', None, None, (), None), SchemaField('state_gnis_code', 'STRING', 'NULLABLE', None, None, (), None), SchemaField('state', 'STRING', 'NULLABLE', None, None, (), None), SchemaField('state_name', 'STRING', 'NULLABLE', None, None, (), None), SchemaField('lsad_code', 'STRING', 'NULLABLE', None, None, (), None), SchemaField('mtfcc_feature_class_code', 'STRING', 'NULLABLE', None, None, (), None), SchemaField('functional_status', 'STRING', 'NULLABLE', None, None, (), None), SchemaField('area_land_meters', 'INTEGER', 'NULLABLE', None, None, (), None), SchemaField('area_water_meters', 'INTEGER', 'NULLABLE', None, None, (), None), SchemaField('int_point_lat', 'FLOAT', 'NULLABLE', None, None, (), None), SchemaField('int_point_lon', 'FLOAT', 'NULLABLE', None, None, (), None), SchemaField('int_point_geom', 'GEOGRAPHY', 'NULLABLE', None, None, (), None), SchemaField('state_geom', 'GEOGRAPHY', 'NULLABLE', None, None, (), None)] \n",
      " \n",
      "\n",
      "datamodels-and-pipelines.cyclistic.urban_areas \n",
      " [SchemaField('geo_id', 'STRING', 'NULLABLE', None, None, (), None), SchemaField('urban_area_code', 'STRING', 'NULLABLE', None, None, (), None), SchemaField('name', 'STRING', 'NULLABLE', None, None, (), None), SchemaField('lsad_name', 'STRING', 'NULLABLE', None, None, (), None), SchemaField('area_lsad_code', 'STRING', 'NULLABLE', None, None, (), None), SchemaField('mtfcc_feature_class_code', 'STRING', 'NULLABLE', None, None, (), None), SchemaField('type', 'STRING', 'NULLABLE', None, None, (), None), SchemaField('functional_status', 'STRING', 'NULLABLE', None, None, (), None), SchemaField('area_land_meters', 'FLOAT', 'NULLABLE', None, None, (), None), SchemaField('area_water_meters', 'FLOAT', 'NULLABLE', None, None, (), None), SchemaField('internal_point_lon', 'FLOAT', 'NULLABLE', None, None, (), None), SchemaField('internal_point_lat', 'FLOAT', 'NULLABLE', None, None, (), None), SchemaField('internal_point_geom', 'GEOGRAPHY', 'NULLABLE', None, None, (), None), SchemaField('urban_area_geom', 'GEOGRAPHY', 'NULLABLE', None, None, (), None)] \n",
      " \n",
      "\n",
      "datamodels-and-pipelines.cyclistic.zip_codes \n",
      " [SchemaField('zip_code', 'STRING', 'NULLABLE', None, None, (), None), SchemaField('city', 'STRING', 'NULLABLE', None, None, (), None), SchemaField('county', 'STRING', 'NULLABLE', None, None, (), None), SchemaField('state_fips_code', 'STRING', 'NULLABLE', None, None, (), None), SchemaField('state_code', 'STRING', 'NULLABLE', None, None, (), None), SchemaField('state_name', 'STRING', 'NULLABLE', None, None, (), None), SchemaField('fips_class_code', 'STRING', 'NULLABLE', None, None, (), None), SchemaField('mtfcc_feature_class_code', 'STRING', 'NULLABLE', None, None, (), None), SchemaField('functional_status', 'STRING', 'NULLABLE', None, None, (), None), SchemaField('area_land_meters', 'FLOAT', 'NULLABLE', None, None, (), None), SchemaField('area_water_meters', 'FLOAT', 'NULLABLE', None, None, (), None), SchemaField('internal_point_lat', 'FLOAT', 'NULLABLE', None, None, (), None), SchemaField('internal_point_lon', 'FLOAT', 'NULLABLE', None, None, (), None), SchemaField('internal_point_geom', 'GEOGRAPHY', 'NULLABLE', None, None, (), None), SchemaField('zip_code_geom', 'GEOGRAPHY', 'NULLABLE', None, None, (), None)] \n",
      " \n",
      "\n"
     ]
    }
   ],
   "source": [
    "# Listing all schemas\n",
    "\n",
    "for table in table_list:\n",
    "    table_ref = dataset_ref.table(table)\n",
    "    # API request - fetch the table\n",
    "    table = client.get_table(table_ref)\n",
    "    \n",
    "    print(f'{table}',\"\\n\",table.schema, \"\\n\" ,\"\\n\") "
   ]
  },
  {
   "cell_type": "markdown",
   "id": "03e2944b-482c-499c-a893-f2d87fea2e3b",
   "metadata": {},
   "source": [
    "Para este proyecto de fin de curso, utilizará dos conjuntos de datos públicos, que existen en los datos públicos disponibles en el panel Explorador de su consola: \n",
    "\n",
    "- NYC Citi Bike Trips\n",
    "- Census Bureau US Boundaries\n",
    "- GSOD de la Administración Nacional Oceánica y Atmosférica\n",
    " \n",
    "\n",
    "Además, tendrá que cargar la hoja de cálculo de códigos postales que su colega compartió con usted.\n",
    "\n",
    "###\n",
    "\n",
    "Una forma de copiar todas las tablas de un dataset de origen (en este caso, `geo_us_boundaries`) a un nuevo dataset en tu proyecto, sin tener que escribir una consulta `CREATE TABLE` para cada una.\n",
    "\n"
   ]
  },
  {
   "cell_type": "code",
   "execution_count": 8,
   "id": "5d32a578-f024-4b96-bf33-8b46636fe252",
   "metadata": {},
   "outputs": [],
   "source": [
    "# Copiar tablas bigquery-public-data en dataset datamodels-and-pipelines! \n",
    "# Este codigo unicamente ha sido ejecutado una vez, no hace falta volver a copiar nada.\n",
    "\n",
    "#client = bigquery.Client() \n",
    "\n",
    "# Dataset de origen\n",
    "#source_dataset = client.dataset(\"geo_us_boundaries\", project=\"bigquery-public-data\")\n",
    "\n",
    "# Dataset de destino\n",
    "#destination_dataset = client.dataset(\"cyclistic\", project=\"datamodels-and-pipelines\")\n",
    "\n",
    "# Obtener las tablas del dataset de origen\n",
    "#tables = client.list_tables(source_dataset)\n",
    "\n",
    "#for table in tables:\n",
    "#    # Crear una nueva tabla en el dataset de destino\n",
    "#    table_id = f\"{destination_dataset}.{table.table_id}\"\n",
    "#    sql = f\"SELECT * FROM `{source_dataset}.{table.table_id}`\"\n",
    "#    job_config = bigquery.QueryJobConfig(destination=table_id)\n",
    "#    client.query(sql, job_config=job_config).result()"
   ]
  },
  {
   "cell_type": "markdown",
   "id": "20ecd360-e760-437a-9e5c-53221868089d",
   "metadata": {},
   "source": [
    "##### Creando UNA nueva tabla en `cyclistic` dataset\n",
    "\n",
    "```sql\n",
    "CREATE TABLE\n",
    "  `datamodels-and-pipelines.cyclistic.gsod2015`\n",
    "AS(\n",
    "  SELECT\n",
    "    *\n",
    "  FROM  `bigquery-public-data.noaa_gsod.gsod2015`\n",
    ")\n",
    "```"
   ]
  },
  {
   "cell_type": "markdown",
   "id": "3a5a24e9-9a49-44d9-a902-65db6b31ef64",
   "metadata": {},
   "source": [
    "**Key Points and Questions**\n",
    "\n",
    "1. **Overwhelming Amount of Metrics:** You're concerned that presenting all metrics might overwhelm users.\n",
    "2. **Dashboard Design:** You're unsure about how to design a dashboard that effectively conveys this information.\n",
    "3. **Prioritization:** You need to determine which metrics are most important to focus on.\n",
    "\n",
    "**Proposed Approach**\n",
    "\n",
    "1. **Prioritize Metrics:**\n",
    "   - **Business Goals:** Identify the key objectives of the bicycle sharing system (e.g., increase usage, improve efficiency, reduce costs).\n",
    "     The main objective is to identify customer demand in different seasons.\n",
    "     \n",
    "   - **Stakeholder Needs:** Understand the specific information needs of different stakeholders (e.g., management, operations, marketing).\n",
    "   - **Data Availability:** Consider which metrics can be calculated reliably and efficiently.\n",
    "   - **Relevance:** Focus on metrics that directly contribute to achieving business goals.\n",
    "\n",
    "2. **Design a User-Friendly Dashboard:**\n",
    "   - **Clear Layout:** Organize metrics into logical groups (e.g., usage, performance, efficiency).\n",
    "   - **Visualizations:** Use appropriate charts and graphs to present data effectively (e.g., line charts for trends, bar charts for comparisons).\n",
    "   - **Interactivity:** Allow users to drill down into details, filter data, and customize views.\n",
    "   - **Contextual Information:** Provide explanations and definitions for metrics to ensure understanding.\n",
    "\n",
    "3. **Consider Different Dashboards:**\n",
    "   - **Multiple Dashboards:** Create separate dashboards for different user roles or specific use cases.\n",
    "   - **Dynamic Dashboards:** Allow users to customize the dashboard to their preferences.\n",
    "\n",
    "**Example Metrics to Prioritize:**\n",
    "\n",
    "* **Usage:** Total trips, peak hours, trip duration, trip distance.\n",
    "* **Efficiency:** Bike availability, rebalancing frequency, maintenance costs.\n",
    "* **Customer Satisfaction:** User ratings, feedback, churn rate.\n",
    "* **Financial Performance:** Revenue, costs, profitability.\n",
    "\n",
    "**Additional Considerations:**\n",
    "\n",
    "* **Data Quality:** Ensure data accuracy and consistency to avoid misleading insights.\n",
    "* **Security:** Protect sensitive user data and comply with regulations.\n",
    "* **Accessibility:** Design the dashboard to be usable by people with disabilities.\n",
    "\n",
    "By carefully prioritizing metrics and designing a user-friendly dashboard, you can effectively communicate the insights from the bicycle sharing data to stakeholders without overwhelming them with information.\n",
    "\n",
    "\n",
    "**Las métricas son los datos que recopilamos, y los KPI (Indicadores Clave de Desempeño) son las métricas específicas que elegimos para medir el éxito en relación con nuestros objetivos.**\n",
    "\n",
    "## Cómo convertir métricas en KPI para un dashboard de bicicletas compartidas\n",
    "\n",
    "**Criterio para la selección de KPI:**\n",
    "\n",
    "1. **Alignamiento con los objetivos:** Los KPI deben estar directamente vinculados a los objetivos estratégicos del negocio. En el caso de un sistema de bicicletas compartidas, estos objetivos podrían incluir aumentar el uso, optimizar la distribución de bicicletas, mejorar la satisfacción del cliente, etc.\n",
    "2. **Relevancia:** Los KPI deben ser relevantes para el público objetivo. Por ejemplo, para la dirección, los KPI financieros podrían ser más importantes, mientras que para el equipo de operaciones, los KPI relacionados con la eficiencia podrían ser más relevantes.\n",
    "3. **Especificidad:** Los KPI deben ser claros y concisos, evitando ambigüedades. En lugar de un KPI como \"mejorar la satisfacción del cliente\", sería más específico \"aumentar la calificación promedio de los usuarios en un 10% en los próximos 3 meses\".\n",
    "4. **Medibilidad:** Los KPI deben ser cuantificables y fáciles de medir. Es decir, deben tener un valor numérico y un período de tiempo específico.\n",
    "5. **Accesibilidad:** La información necesaria para calcular los KPI debe estar disponible y ser fácil de obtener.\n",
    "6. **Poca cantidad pero de gran impacto:** En lugar de tener una gran cantidad de KPI, es mejor seleccionar unos pocos que sean realmente críticos para el negocio.\n",
    "\n",
    "**Ejemplos de KPI para un sistema de bicicletas compartidas:**\n",
    "\n",
    "* **Uso:** Número total de viajes, número de usuarios únicos, duración promedio de los viajes.\n",
    "* **Eficiencia:** Tasa de ocupación de las bicicletas, tiempo promedio de espera para encontrar una bicicleta disponible, número de rebalanceos.\n",
    "* **Satisfacción del cliente:** Calificación promedio de los usuarios, tasa de retención de usuarios, número de quejas.\n",
    "* **Financiero:** Ingresos por alquiler, costo por viaje, margen de beneficio.\n",
    "\n",
    "**Construyendo el dashboard:**\n",
    "\n",
    "Una vez seleccionados los KPI, es importante visualizarlos de manera clara y concisa en el dashboard. Algunas recomendaciones:\n",
    "\n",
    "* **Priorizar la información:** Los KPI más importantes deben ocupar un lugar destacado en el dashboard.\n",
    "* **Utilizar visualizaciones adecuadas:** Gráficos de líneas para tendencias, barras para comparaciones, mapas para ubicaciones, etc.\n",
    "* **Incluir filtros:** Permitir a los usuarios filtrar los datos por diferentes criterios (fecha, zona, tipo de usuario, etc.).\n",
    "* **Actualizar los datos regularmente:** Asegurarse de que los datos del dashboard estén siempre actualizados.\n",
    "\n",
    "**En resumen,** construir un dashboard eficaz implica seleccionar los KPI adecuados, diseñar una visualización clara y concisa, y actualizar los datos regularmente. Al hacerlo, los stakeholders podrán tomar decisiones más informadas y basadas en datos.\n",
    "\n",
    "**¿Te gustaría profundizar en algún aspecto específico, como la selección de visualizaciones o la creación de un dashboard interactivo?**\n"
   ]
  },
  {
   "cell_type": "code",
   "execution_count": 12,
   "id": "94219b6e-d6d2-402a-bad3-56322a9e9d6a",
   "metadata": {},
   "outputs": [
    {
     "name": "stdout",
     "output_type": "stream",
     "text": [
      "/home/ion/Formacion/kaggle/Getting Started With SQL and BigQuery\n"
     ]
    }
   ],
   "source": [
    "! pwd"
   ]
  },
  {
   "cell_type": "code",
   "execution_count": null,
   "id": "785b98f5-33dc-4170-bf15-cd187d8c8b1e",
   "metadata": {},
   "outputs": [],
   "source": []
  },
  {
   "cell_type": "code",
   "execution_count": null,
   "id": "ef2edd8f-3636-4c34-b11c-fbd1a77d0492",
   "metadata": {},
   "outputs": [],
   "source": []
  },
  {
   "cell_type": "code",
   "execution_count": null,
   "id": "41fc65c8-2128-4ae1-8df6-e7d81091d4bc",
   "metadata": {},
   "outputs": [],
   "source": []
  },
  {
   "cell_type": "code",
   "execution_count": null,
   "id": "842a9e50-55c8-4d5c-802b-c76b7148f8c3",
   "metadata": {},
   "outputs": [],
   "source": []
  }
 ],
 "metadata": {
  "kernelspec": {
   "display_name": "Python 3 (ipykernel)",
   "language": "python",
   "name": "python3"
  },
  "language_info": {
   "codemirror_mode": {
    "name": "ipython",
    "version": 3
   },
   "file_extension": ".py",
   "mimetype": "text/x-python",
   "name": "python",
   "nbconvert_exporter": "python",
   "pygments_lexer": "ipython3",
   "version": "3.10.15"
  }
 },
 "nbformat": 4,
 "nbformat_minor": 5
}
